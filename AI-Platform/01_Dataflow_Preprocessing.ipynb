{
  "nbformat": 4,
  "nbformat_minor": 0,
  "metadata": {
    "kernelspec": {
      "display_name": "Python 3",
      "language": "python",
      "name": "python3"
    },
    "language_info": {
      "codemirror_mode": {
        "name": "ipython",
        "version": 3
      },
      "file_extension": ".py",
      "mimetype": "text/x-python",
      "name": "python",
      "nbconvert_exporter": "python",
      "pygments_lexer": "ipython3",
      "version": "3.5.3"
    },
    "colab": {
      "name": "01 Dataflow Preprocessing.ipynb",
      "provenance": [],
      "collapsed_sections": [],
      "include_colab_link": true
    }
  },
  "cells": [
    {
      "cell_type": "markdown",
      "metadata": {
        "id": "view-in-github",
        "colab_type": "text"
      },
      "source": [
        "<a href=\"https://colab.research.google.com/github/tommycon/Deeplearning-GoogleCloud/blob/main/AI-Platform/01_Dataflow_Preprocessing.ipynb\" target=\"_parent\"><img src=\"https://colab.research.google.com/assets/colab-badge.svg\" alt=\"Open In Colab\"/></a>"
      ]
    },
    {
      "cell_type": "code",
      "metadata": {
        "deletable": true,
        "editable": true,
        "jupyter": {
          "outputs_hidden": false
        },
        "id": "W_sx61CoBQA5"
      },
      "source": [
        "pip install --user apache-beam[gcp]==2.16.0"
      ],
      "execution_count": null,
      "outputs": []
    },
    {
      "cell_type": "code",
      "metadata": {
        "id": "2sEeDhz8BQA_"
      },
      "source": [
        "# Ensure the right version of Tensorflow is installed.\n",
        "!pip freeze | grep tensorflow==2.1"
      ],
      "execution_count": null,
      "outputs": []
    },
    {
      "cell_type": "code",
      "metadata": {
        "id": "ET3TlZDTBQBC",
        "outputId": "f96764f1-35ec-40a2-c250-9b7718b2c660",
        "colab": {
          "base_uri": "https://localhost:8080/",
          "height": 34
        }
      },
      "source": [
        "import apache_beam as beam\n",
        "print(beam.__version__)"
      ],
      "execution_count": null,
      "outputs": [
        {
          "output_type": "stream",
          "text": [
            "2.16.0\n"
          ],
          "name": "stdout"
        }
      ]
    },
    {
      "cell_type": "code",
      "metadata": {
        "id": "PGIWl1eaC4pJ"
      },
      "source": [
        "from google.colab import auth\n",
        "auth.authenticate_user()\n",
        "print('Authenticated')"
      ],
      "execution_count": null,
      "outputs": []
    },
    {
      "cell_type": "code",
      "metadata": {
        "id": "reGscpfgBQBH"
      },
      "source": [
        "# change these to try this notebook out\n",
        "BUCKET = 'dataflow-tfx-pipeline'\n",
        "PROJECT = 'tc-test-project-260312'\n",
        "REGION = 'us-central1'"
      ],
      "execution_count": null,
      "outputs": []
    },
    {
      "cell_type": "code",
      "metadata": {
        "id": "RgUbgrs2BQBL"
      },
      "source": [
        "import os\n",
        "os.environ['BUCKET'] = BUCKET\n",
        "os.environ['PROJECT'] = PROJECT\n",
        "os.environ['REGION'] = REGION"
      ],
      "execution_count": null,
      "outputs": []
    },
    {
      "cell_type": "code",
      "metadata": {
        "id": "lol48bGlBQBO",
        "outputId": "2bb98321-7340-489d-89ec-50fd0e235df2",
        "colab": {
          "base_uri": "https://localhost:8080/",
          "height": 88
        }
      },
      "source": [
        "%%bash\n",
        "if ! gsutil ls | grep -q gs://${BUCKET}/; then\n",
        "  gsutil mb -l ${REGION} gs://${BUCKET}\n",
        "fi"
      ],
      "execution_count": null,
      "outputs": [
        {
          "output_type": "stream",
          "text": [
            "You are attempting to perform an operation that requires a project id, with none configured. Please re-run gsutil config and make sure to follow the instructions for finding and entering your default project id.\n",
            "Creating gs://dataflow-tfx-pipeline/...\n",
            "You are attempting to perform an operation that requires a project id, with none configured. Please re-run gsutil config and make sure to follow the instructions for finding and entering your default project id.\n"
          ],
          "name": "stderr"
        }
      ]
    },
    {
      "cell_type": "code",
      "metadata": {
        "id": "QaCkSZg4BQBS"
      },
      "source": [
        "# Create SQL query using natality data after the year 2000\n",
        "query = \"\"\"\n",
        "SELECT\n",
        "  weight_pounds,\n",
        "  is_male,\n",
        "  mother_age,\n",
        "  plurality,\n",
        "  gestation_weeks,\n",
        "  FARM_FINGERPRINT(CONCAT(CAST(YEAR AS STRING), CAST(month AS STRING))) AS hashmonth\n",
        "FROM\n",
        "  publicdata.samples.natality\n",
        "WHERE year > 2007\n",
        "\"\"\""
      ],
      "execution_count": null,
      "outputs": []
    },
    {
      "cell_type": "code",
      "metadata": {
        "id": "_oWna-AnBQBV",
        "outputId": "a9294657-81d4-4cbf-d740-2e0f89ce2846",
        "colab": {
          "base_uri": "https://localhost:8080/",
          "height": 204
        }
      },
      "source": [
        "# Call BigQuery and examine in dataframe\n",
        "from google.cloud import bigquery\n",
        "bq_client = bigquery.Client(project = PROJECT)\n",
        "df = bq_client.query(query + \" LIMIT 100\").to_dataframe()\n",
        "df.head()"
      ],
      "execution_count": null,
      "outputs": [
        {
          "output_type": "execute_result",
          "data": {
            "text/html": [
              "<div>\n",
              "<style scoped>\n",
              "    .dataframe tbody tr th:only-of-type {\n",
              "        vertical-align: middle;\n",
              "    }\n",
              "\n",
              "    .dataframe tbody tr th {\n",
              "        vertical-align: top;\n",
              "    }\n",
              "\n",
              "    .dataframe thead th {\n",
              "        text-align: right;\n",
              "    }\n",
              "</style>\n",
              "<table border=\"1\" class=\"dataframe\">\n",
              "  <thead>\n",
              "    <tr style=\"text-align: right;\">\n",
              "      <th></th>\n",
              "      <th>weight_pounds</th>\n",
              "      <th>is_male</th>\n",
              "      <th>mother_age</th>\n",
              "      <th>plurality</th>\n",
              "      <th>gestation_weeks</th>\n",
              "      <th>hashmonth</th>\n",
              "    </tr>\n",
              "  </thead>\n",
              "  <tbody>\n",
              "    <tr>\n",
              "      <th>0</th>\n",
              "      <td>7.061406</td>\n",
              "      <td>True</td>\n",
              "      <td>27</td>\n",
              "      <td>1</td>\n",
              "      <td>41</td>\n",
              "      <td>1011945037241428753</td>\n",
              "    </tr>\n",
              "    <tr>\n",
              "      <th>1</th>\n",
              "      <td>8.624484</td>\n",
              "      <td>True</td>\n",
              "      <td>32</td>\n",
              "      <td>1</td>\n",
              "      <td>40</td>\n",
              "      <td>6637442812569910270</td>\n",
              "    </tr>\n",
              "    <tr>\n",
              "      <th>2</th>\n",
              "      <td>6.049484</td>\n",
              "      <td>True</td>\n",
              "      <td>21</td>\n",
              "      <td>1</td>\n",
              "      <td>36</td>\n",
              "      <td>6637442812569910270</td>\n",
              "    </tr>\n",
              "    <tr>\n",
              "      <th>3</th>\n",
              "      <td>5.562263</td>\n",
              "      <td>True</td>\n",
              "      <td>33</td>\n",
              "      <td>1</td>\n",
              "      <td>36</td>\n",
              "      <td>-2768780346491825728</td>\n",
              "    </tr>\n",
              "    <tr>\n",
              "      <th>4</th>\n",
              "      <td>10.061898</td>\n",
              "      <td>True</td>\n",
              "      <td>34</td>\n",
              "      <td>1</td>\n",
              "      <td>40</td>\n",
              "      <td>-5960947298512945432</td>\n",
              "    </tr>\n",
              "  </tbody>\n",
              "</table>\n",
              "</div>"
            ],
            "text/plain": [
              "   weight_pounds  is_male  ...  gestation_weeks            hashmonth\n",
              "0       7.061406     True  ...               41  1011945037241428753\n",
              "1       8.624484     True  ...               40  6637442812569910270\n",
              "2       6.049484     True  ...               36  6637442812569910270\n",
              "3       5.562263     True  ...               36 -2768780346491825728\n",
              "4      10.061898     True  ...               40 -5960947298512945432\n",
              "\n",
              "[5 rows x 6 columns]"
            ]
          },
          "metadata": {
            "tags": []
          },
          "execution_count": 23
        }
      ]
    },
    {
      "cell_type": "code",
      "metadata": {
        "id": "jXPX1RdgBQBa",
        "outputId": "4569a988-3c80-495c-d5e2-e4aea3e122fc",
        "colab": {
          "base_uri": "https://localhost:8080/",
          "height": 34
        }
      },
      "source": [
        "import datetime, os\n",
        "\n",
        "def to_csv(rowdict):\n",
        "  # Pull columns from BQ and create a line\n",
        "  import hashlib\n",
        "  import copy\n",
        "  CSV_COLUMNS = 'weight_pounds,is_male,mother_age,plurality,gestation_weeks'.split(',')\n",
        "\n",
        "  # Create synthetic data where we assume that no ultrasound has been performed\n",
        "  # and so we don't know sex of the baby. Let's assume that we can tell the difference\n",
        "  # between single and multiple, but that the errors rates in determining exact number\n",
        "  # is difficult in the absence of an ultrasound.\n",
        "  no_ultrasound = copy.deepcopy(rowdict)\n",
        "  w_ultrasound = copy.deepcopy(rowdict)\n",
        "\n",
        "  no_ultrasound['is_male'] = 'Unknown'\n",
        "  if rowdict['plurality'] > 1:\n",
        "    no_ultrasound['plurality'] = 'Multiple(2+)'\n",
        "  else:\n",
        "    no_ultrasound['plurality'] = 'Single(1)'\n",
        "\n",
        "  # Change the plurality column to strings\n",
        "  w_ultrasound['plurality'] = ['Single(1)', 'Twins(2)', 'Triplets(3)', 'Quadruplets(4)', 'Quintuplets(5)'][rowdict['plurality'] - 1]\n",
        "\n",
        "  # Write out two rows for each input row, one with ultrasound and one without\n",
        "  for result in [no_ultrasound, w_ultrasound]:\n",
        "    data = ','.join([str(result[k]) if k in result else 'None' for k in CSV_COLUMNS])\n",
        "    key = hashlib.sha224(data.encode('utf-8')).hexdigest()  # hash the columns to form a key\n",
        "    yield str('{},{}'.format(data, key))\n",
        "  \n",
        "def preprocess(in_test_mode):\n",
        "  import shutil, os, subprocess\n",
        "  job_name = 'preprocess-babyweight-features' + '-' + datetime.datetime.now().strftime('%y%m%d-%H%M%S')\n",
        "\n",
        "  if in_test_mode:\n",
        "      print('Launching local job ... hang on')\n",
        "      OUTPUT_DIR = './preproc'\n",
        "      shutil.rmtree(OUTPUT_DIR, ignore_errors=True)\n",
        "      os.makedirs(OUTPUT_DIR)\n",
        "  else:\n",
        "      print('Launching Dataflow job {} ... hang on'.format(job_name))\n",
        "      OUTPUT_DIR = 'gs://{0}/babyweight/preproc/'.format(BUCKET)\n",
        "      try:\n",
        "        subprocess.check_call('gsutil -m rm -r {}'.format(OUTPUT_DIR).split())\n",
        "      except:\n",
        "        pass\n",
        "\n",
        "  options = {\n",
        "      'staging_location': os.path.join(OUTPUT_DIR, 'tmp', 'staging'),\n",
        "      'temp_location': os.path.join(OUTPUT_DIR, 'tmp'),\n",
        "      'job_name': job_name,\n",
        "      'project': PROJECT,\n",
        "      'region': REGION,\n",
        "      'teardown_policy': 'TEARDOWN_ALWAYS',\n",
        "      'no_save_main_session': True,\n",
        "      'num_workers': 4,\n",
        "      'max_num_workers': 5\n",
        "  }\n",
        "  opts = beam.pipeline.PipelineOptions(flags = [], **options)\n",
        "  if in_test_mode:\n",
        "      RUNNER = 'DirectRunner'\n",
        "  else:\n",
        "      RUNNER = 'DataflowRunner'\n",
        "  p = beam.Pipeline(RUNNER, options = opts)\n",
        "  query = \"\"\"\n",
        "SELECT\n",
        "  weight_pounds,\n",
        "  is_male,\n",
        "  mother_age,\n",
        "  plurality,\n",
        "  gestation_weeks,\n",
        "  FARM_FINGERPRINT(CONCAT(CAST(YEAR AS STRING), CAST(month AS STRING))) AS hashmonth\n",
        "FROM\n",
        "  publicdata.samples.natality\n",
        "WHERE year > 2007\n",
        "AND weight_pounds > 0\n",
        "AND mother_age > 0\n",
        "AND plurality > 0\n",
        "AND gestation_weeks > 0\n",
        "AND month > 0\n",
        "    \"\"\"\n",
        "\n",
        "  if in_test_mode:\n",
        "    query = query + ' LIMIT 100' \n",
        "\n",
        "  for step in ['train', 'eval']:\n",
        "    if step == 'train':\n",
        "      selquery = 'SELECT * FROM ({}) WHERE ABS(MOD(hashmonth, 4)) < 3'.format(query)\n",
        "    else:\n",
        "      selquery = 'SELECT * FROM ({}) WHERE ABS(MOD(hashmonth, 4)) = 3'.format(query)\n",
        "\n",
        "    (p \n",
        "     | '{}_read'.format(step) >> beam.io.Read(beam.io.BigQuerySource(query = selquery, use_standard_sql = True))\n",
        "     | '{}_csv'.format(step) >> beam.FlatMap(to_csv)\n",
        "     | '{}_out'.format(step) >> beam.io.Write(beam.io.WriteToText(os.path.join(OUTPUT_DIR, '{}.csv'.format(step))))\n",
        "    )\n",
        "\n",
        "  job = p.run()\n",
        "  if in_test_mode:\n",
        "    job.wait_until_finish()\n",
        "    print(\"Done!\")\n",
        "    \n",
        "preprocess(in_test_mode = False)"
      ],
      "execution_count": null,
      "outputs": [
        {
          "output_type": "stream",
          "text": [
            "Launching Dataflow job preprocess-babyweight-features-200823-160700 ... hang on\n"
          ],
          "name": "stdout"
        }
      ]
    },
    {
      "cell_type": "code",
      "metadata": {
        "id": "rNpJczFxBQBf",
        "outputId": "8aa434c1-2cb4-4b66-cfc1-25b1cb144dd2",
        "colab": {
          "base_uri": "https://localhost:8080/",
          "height": 102
        }
      },
      "source": [
        "%%bash\n",
        "gsutil ls gs://${BUCKET}/babyweight/preproc/*-0000*"
      ],
      "execution_count": null,
      "outputs": [
        {
          "output_type": "stream",
          "text": [
            "gs://dataflow-tfx-pipeline/babyweight/preproc/eval.csv-00000-of-00001\n",
            "gs://dataflow-tfx-pipeline/babyweight/preproc/train.csv-00000-of-00004\n",
            "gs://dataflow-tfx-pipeline/babyweight/preproc/train.csv-00001-of-00004\n",
            "gs://dataflow-tfx-pipeline/babyweight/preproc/train.csv-00002-of-00004\n",
            "gs://dataflow-tfx-pipeline/babyweight/preproc/train.csv-00003-of-00004\n"
          ],
          "name": "stdout"
        }
      ]
    },
    {
      "cell_type": "code",
      "metadata": {
        "id": "VmwCaXcUD1bj"
      },
      "source": [
        ""
      ],
      "execution_count": null,
      "outputs": []
    }
  ]
}