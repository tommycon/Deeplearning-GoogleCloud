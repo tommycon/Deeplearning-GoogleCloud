{
  "nbformat": 4,
  "nbformat_minor": 0,
  "metadata": {
    "kernelspec": {
      "display_name": "Python 3",
      "language": "python",
      "name": "python3"
    },
    "language_info": {
      "codemirror_mode": {
        "name": "ipython",
        "version": 3
      },
      "file_extension": ".py",
      "mimetype": "text/x-python",
      "name": "python",
      "nbconvert_exporter": "python",
      "pygments_lexer": "ipython3",
      "version": "3.5.3"
    },
    "colab": {
      "name": "03. Deploy Model to AI Platform and Serve.ipynb",
      "provenance": [],
      "collapsed_sections": [],
      "include_colab_link": true
    }
  },
  "cells": [
    {
      "cell_type": "markdown",
      "metadata": {
        "id": "view-in-github",
        "colab_type": "text"
      },
      "source": [
        "<a href=\"https://colab.research.google.com/github/tommycon/Deeplearning-GoogleCloud/blob/main/AI-Platform/03_Deploy_Model_to_AI_Platform_and_Serve.ipynb\" target=\"_parent\"><img src=\"https://colab.research.google.com/assets/colab-badge.svg\" alt=\"Open In Colab\"/></a>"
      ]
    },
    {
      "cell_type": "code",
      "metadata": {
        "id": "iyx5VjmBc8g8",
        "outputId": "d3bcab79-f2d4-4103-e3c5-e88fcf8b590b",
        "colab": {
          "base_uri": "https://localhost:8080/",
          "height": 34
        }
      },
      "source": [
        "!sudo chown -R jupyter:jupyter /home/jupyter/training-data-analyst"
      ],
      "execution_count": null,
      "outputs": [
        {
          "output_type": "stream",
          "text": [
            "chown: invalid user: ‘jupyter:jupyter’\n"
          ],
          "name": "stdout"
        }
      ]
    },
    {
      "cell_type": "code",
      "metadata": {
        "id": "nJiP6Zscc8hB"
      },
      "source": [
        "# Ensure the right version of Tensorflow is installed.\n",
        "!pip freeze | grep tensorflow==2.1"
      ],
      "execution_count": null,
      "outputs": []
    },
    {
      "cell_type": "code",
      "metadata": {
        "id": "achP485rdKx_",
        "outputId": "a311cf41-3b75-48b0-fd07-186847b83490",
        "colab": {
          "base_uri": "https://localhost:8080/",
          "height": 34
        }
      },
      "source": [
        "from google.colab import auth\n",
        "auth.authenticate_user()\n",
        "print('Authenticated')"
      ],
      "execution_count": null,
      "outputs": [
        {
          "output_type": "stream",
          "text": [
            "Authenticated\n"
          ],
          "name": "stdout"
        }
      ]
    },
    {
      "cell_type": "code",
      "metadata": {
        "id": "hzabz6oRc8hH"
      },
      "source": [
        "# change these to try this notebook out\n",
        "BUCKET = 'dataflow-tfx-pipeline'\n",
        "PROJECT = 'tc-test-project-260312'\n",
        "REGION = 'us-central1'"
      ],
      "execution_count": null,
      "outputs": []
    },
    {
      "cell_type": "code",
      "metadata": {
        "id": "-Qo_2Fkid3g8",
        "outputId": "44437f24-c4f8-4461-9521-2daa14e5c907",
        "colab": {
          "base_uri": "https://localhost:8080/",
          "height": 51
        }
      },
      "source": [
        "%%bash\n",
        "gcloud config set project $PROJECT\n",
        "gcloud config set compute/region $REGION"
      ],
      "execution_count": null,
      "outputs": [
        {
          "output_type": "stream",
          "text": [
            "Updated property [core/project].\n",
            "Updated property [compute/region].\n"
          ],
          "name": "stderr"
        }
      ]
    },
    {
      "cell_type": "code",
      "metadata": {
        "id": "gbVNtLr_c8hM"
      },
      "source": [
        "import os\n",
        "os.environ['BUCKET'] = BUCKET\n",
        "os.environ['PROJECT'] = PROJECT\n",
        "os.environ['REGION'] = REGION\n",
        "os.environ['TFVERSION'] = '2.1'  "
      ],
      "execution_count": null,
      "outputs": []
    },
    {
      "cell_type": "markdown",
      "metadata": {
        "id": "m8Gxii6Qc8hU"
      },
      "source": [
        "<h2> Deploy trained model </h2>\n",
        "<p>\n",
        "Deploying the trained model to act as a REST web service is a simple gcloud call."
      ]
    },
    {
      "cell_type": "code",
      "metadata": {
        "id": "7c_J9Ba0c8hV",
        "outputId": "0e7efa35-1852-41aa-bd98-aa763b89fa18",
        "colab": {
          "base_uri": "https://localhost:8080/",
          "height": 408
        }
      },
      "source": [
        "%%bash\n",
        "gsutil ls gs://${BUCKET}/babyweight/trained_model/"
      ],
      "execution_count": null,
      "outputs": [
        {
          "output_type": "stream",
          "text": [
            "gs://dataflow-tfx-pipeline/babyweight/trained_model_keras/20200827113425/\n",
            "gs://dataflow-tfx-pipeline/babyweight/trained_model_keras/20200827113425/saved_model.pb\n",
            "gs://dataflow-tfx-pipeline/babyweight/trained_model_keras/20200827113425/assets/\n",
            "gs://dataflow-tfx-pipeline/babyweight/trained_model_keras/20200827113425/variables/\n",
            "gs://dataflow-tfx-pipeline/babyweight/trained_model_keras/\n",
            "gs://dataflow-tfx-pipeline/babyweight/trained_model_keras/20200827113425/\n",
            "gs://dataflow-tfx-pipeline/babyweight/trained_model_keras/checkpoints/\n",
            "gs://dataflow-tfx-pipeline/babyweight/trained_model/\n",
            "gs://dataflow-tfx-pipeline/babyweight/trained_model/checkpoint\n",
            "gs://dataflow-tfx-pipeline/babyweight/trained_model/events.out.tfevents.1598516366.gke-cml-0827-081152--n1-standard-4-0a-34315352-khp9\n",
            "gs://dataflow-tfx-pipeline/babyweight/trained_model/graph.pbtxt\n",
            "gs://dataflow-tfx-pipeline/babyweight/trained_model/model.ckpt-0.data-00000-of-00002\n",
            "gs://dataflow-tfx-pipeline/babyweight/trained_model/model.ckpt-0.data-00001-of-00002\n",
            "gs://dataflow-tfx-pipeline/babyweight/trained_model/model.ckpt-0.index\n",
            "gs://dataflow-tfx-pipeline/babyweight/trained_model/model.ckpt-0.meta\n",
            "gs://dataflow-tfx-pipeline/babyweight/trained_model/model.ckpt-3907.data-00000-of-00002\n",
            "gs://dataflow-tfx-pipeline/babyweight/trained_model/model.ckpt-3907.data-00001-of-00002\n",
            "gs://dataflow-tfx-pipeline/babyweight/trained_model/model.ckpt-3907.index\n",
            "gs://dataflow-tfx-pipeline/babyweight/trained_model/model.ckpt-3907.meta\n",
            "gs://dataflow-tfx-pipeline/babyweight/trained_model/20200827102202/\n",
            "gs://dataflow-tfx-pipeline/babyweight/trained_model/checkpoints/\n",
            "gs://dataflow-tfx-pipeline/babyweight/trained_model/eval/\n",
            "gs://dataflow-tfx-pipeline/babyweight/trained_model/export/\n"
          ],
          "name": "stdout"
        }
      ]
    },
    {
      "cell_type": "code",
      "metadata": {
        "id": "8wL0nAq6c8ha",
        "outputId": "8e1846ea-3729-486b-b488-766794b7cc7e",
        "colab": {
          "base_uri": "https://localhost:8080/",
          "height": 105
        }
      },
      "source": [
        "%%bash\n",
        "MODEL_NAME=\"babyweight\"\n",
        "MODEL_VERSION=\"ml_on_gcp\"\n",
        "MODEL_LOCATION=$(gsutil ls gs://${BUCKET}/babyweight/trained_model/ | tail -1)\n",
        "echo \"Deleting and deploying $MODEL_NAME $MODEL_VERSION from $MODEL_LOCATION ... this will take a few minutes\"\n",
        "#gcloud ai-platform versions delete ${MODEL_VERSION} --model ${MODEL_NAME}\n",
        "#gcloud ai-platform models delete ${MODEL_NAME}\n",
        "#gcloud ai-platform models create ${MODEL_NAME} --regions $REGION\n",
        "gcloud ai-platform versions create ${MODEL_VERSION} --model ${MODEL_NAME} --origin ${MODEL_LOCATION} --runtime-version $TFVERSION"
      ],
      "execution_count": null,
      "outputs": [
        {
          "output_type": "stream",
          "text": [
            "Deleting and deploying babyweight keras_on_gcpv2 from gs://dataflow-tfx-pipeline/babyweight/trained_model_keras/20200827113425 ... this will take a few minutes\n"
          ],
          "name": "stdout"
        },
        {
          "output_type": "stream",
          "text": [
            "Using endpoint [https://ml.googleapis.com/]\n",
            "Creating version (this might take a few minutes)......\n",
            "............................................................................................................................................................................................................................................................................done.\n"
          ],
          "name": "stderr"
        }
      ]
    },
    {
      "cell_type": "code",
      "metadata": {
        "id": "8dsAkwF3c8hi",
        "outputId": "d1dc8ec6-8e4d-4794-e026-0271791896cd",
        "colab": {
          "base_uri": "https://localhost:8080/",
          "height": 34
        }
      },
      "source": [
        "from oauth2client.client import GoogleCredentials\n",
        "import requests\n",
        "import json\n",
        "\n",
        "MODEL_NAME = 'babyweight'\n",
        "MODEL_VERSION = 'keras_on_gcpv2'\n",
        "\n",
        "token = GoogleCredentials.get_application_default().get_access_token().access_token\n",
        "api = 'https://ml.googleapis.com/v1/projects/{}/models/{}/versions/{}:predict' \\\n",
        "         .format(PROJECT, MODEL_NAME, MODEL_VERSION)\n",
        "headers = {'Authorization': 'Bearer ' + token }\n",
        "data = {\n",
        "  'instances': [\n",
        "    {\n",
        "      'key': 'b1',\n",
        "      'is_male': 'True',\n",
        "      'mother_age': 26.0,\n",
        "      'plurality': 'Single(1)',\n",
        "      'gestation_weeks': 39\n",
        "    },\n",
        "    {\n",
        "      'key': 'g1',\n",
        "      'is_male': 'False',\n",
        "      'mother_age': 29.0,\n",
        "      'plurality': 'Single(1)',\n",
        "      'gestation_weeks': 38\n",
        "    },\n",
        "    {\n",
        "      'key': 'b2',\n",
        "      'is_male': 'True',\n",
        "      'mother_age': 26.0,\n",
        "      'plurality': 'Triplets(3)',\n",
        "      'gestation_weeks': 39\n",
        "    },\n",
        "    {\n",
        "      'key': 'u1',\n",
        "      'is_male': 'Unknown',\n",
        "      'mother_age': 29.0,\n",
        "      'plurality': 'Multiple(2+)',\n",
        "      'gestation_weeks': 38\n",
        "    },\n",
        "  ]\n",
        "}\n",
        "response = requests.post(api, json=data, headers=headers)\n",
        "print(response.content)"
      ],
      "execution_count": null,
      "outputs": [
        {
          "output_type": "stream",
          "text": [
            "b'{\"error\": \"Prediction failed: Unexpected tensor name: key\"}'\n"
          ],
          "name": "stdout"
        }
      ]
    },
    {
      "cell_type": "code",
      "metadata": {
        "id": "C9mkFWJrc8hq",
        "outputId": "2b077e3a-c527-484e-cc31-cc1e0c685aad",
        "colab": {
          "base_uri": "https://localhost:8080/",
          "height": 34
        }
      },
      "source": [
        "%%writefile inputs.json\n",
        "{\"key\": \"b1\", \"is_male\": \"True\", \"mother_age\": 26.0, \"plurality\": \"Single(1)\", \"gestation_weeks\": 39}\n",
        "{\"key\": \"g1\", \"is_male\": \"False\", \"mother_age\": 26.0, \"plurality\": \"Single(1)\", \"gestation_weeks\": 39}"
      ],
      "execution_count": null,
      "outputs": [
        {
          "output_type": "stream",
          "text": [
            "Overwriting inputs.json\n"
          ],
          "name": "stdout"
        }
      ]
    },
    {
      "cell_type": "code",
      "metadata": {
        "id": "DT-v5J9rc8hw",
        "outputId": "d6f3800e-9d89-4ba7-812a-2e1baef7eed2",
        "colab": {
          "base_uri": "https://localhost:8080/",
          "height": 306
        }
      },
      "source": [
        "%%bash\n",
        "INPUT=gs://${BUCKET}/babyweight/batchpred/inputs.json\n",
        "OUTPUT=gs://${BUCKET}/babyweight/batchpred/outputs\n",
        "gsutil cp inputs.json $INPUT\n",
        "gsutil -m rm -rf $OUTPUT \n",
        "gcloud ai-platform jobs submit prediction babypred_$(date -u +%y%m%d_%H%M%S) \\\n",
        "  --data-format=TEXT --region ${REGION} \\\n",
        "  --input-paths=$INPUT \\\n",
        "  --output-path=$OUTPUT \\\n",
        "  --max-worker-count=1 \\\n",
        "  --model=babyweight --version=ml_on_gcp"
      ],
      "execution_count": null,
      "outputs": [
        {
          "output_type": "stream",
          "text": [
            "jobId: babypred_200827_120725\n",
            "state: QUEUED\n"
          ],
          "name": "stdout"
        },
        {
          "output_type": "stream",
          "text": [
            "Copying file://inputs.json [Content-Type=application/json]...\n",
            "/ [0 files][    0.0 B/  204.0 B]                                                \r/ [1 files][  204.0 B/  204.0 B]                                                \r-\r\n",
            "Operation completed over 1 objects/204.0 B.                                      \n",
            "Removing gs://dataflow-tfx-pipeline/babyweight/batchpred/outputs/prediction.results-00000-of-00001#1598525394663011...\n",
            "Removing gs://dataflow-tfx-pipeline/babyweight/batchpred/outputs/prediction.errors_stats-00000-of-00001#1598525386832940...\n",
            "/ [1/2 objects]  50% Done                                                       \r/ [2/2 objects] 100% Done                                                       \r\n",
            "Operation completed over 2 objects.                                              \n",
            "Job [babypred_200827_120725] submitted successfully.\n",
            "Your job is still active. You may view the status of your job with the command\n",
            "\n",
            "  $ gcloud ai-platform jobs describe babypred_200827_120725\n",
            "\n",
            "or continue streaming the logs with the command\n",
            "\n",
            "  $ gcloud ai-platform jobs stream-logs babypred_200827_120725\n"
          ],
          "name": "stderr"
        }
      ]
    },
    {
      "cell_type": "code",
      "metadata": {
        "id": "jr7FWGMQJAmj",
        "outputId": "10d35a2c-2d02-459f-c41b-29e4a849c2e5",
        "colab": {
          "base_uri": "https://localhost:8080/",
          "height": 51
        }
      },
      "source": [
        "%%bash\n",
        "gsutil ls gs://${BUCKET}/babyweight/batchpred/outputs"
      ],
      "execution_count": null,
      "outputs": [
        {
          "output_type": "stream",
          "text": [
            "gs://dataflow-tfx-pipeline/babyweight/batchpred/outputs/prediction.errors_stats-00000-of-00001\n",
            "gs://dataflow-tfx-pipeline/babyweight/batchpred/outputs/beam-temp-prediction.results-f00ed8bae85211eab27542010a800008/\n"
          ],
          "name": "stdout"
        }
      ]
    },
    {
      "cell_type": "code",
      "metadata": {
        "id": "wapVEQphhfDa"
      },
      "source": [
        ""
      ],
      "execution_count": null,
      "outputs": []
    }
  ]
}